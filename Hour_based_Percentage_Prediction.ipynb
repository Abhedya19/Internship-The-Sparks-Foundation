{
  "nbformat": 4,
  "nbformat_minor": 0,
  "metadata": {
    "colab": {
      "name": "Hour based Percentage Prediction.ipynb",
      "provenance": [],
      "collapsed_sections": [],
      "authorship_tag": "ABX9TyPEmzEI0y96hcxc4MoMrTqa",
      "include_colab_link": true
    },
    "kernelspec": {
      "name": "python3",
      "display_name": "Python 3"
    },
    "language_info": {
      "name": "python"
    }
  },
  "cells": [
    {
      "cell_type": "markdown",
      "metadata": {
        "id": "view-in-github",
        "colab_type": "text"
      },
      "source": [
        "<a href=\"https://colab.research.google.com/github/Abhedya19/Internship-The-Sparks-Foundation/blob/main/Hour_based_Percentage_Prediction.ipynb\" target=\"_parent\"><img src=\"https://colab.research.google.com/assets/colab-badge.svg\" alt=\"Open In Colab\"/></a>"
      ]
    },
    {
      "cell_type": "markdown",
      "metadata": {
        "id": "Avxr2Mg--Re-"
      },
      "source": [
        "**Abhedya Mishra**\n",
        "\n",
        "\n",
        "**Data Science and Business Analytics Intern @ The Sparks Foundation**\n",
        "\n",
        "\n"
      ]
    },
    {
      "cell_type": "markdown",
      "metadata": {
        "id": "UjNUVIIyMmev"
      },
      "source": [
        "**GRIP Task 1:**\n",
        "\n",
        "**Predicting the percentage of a child based on their number of study hours using the Linear Regression Model.**"
      ]
    },
    {
      "cell_type": "markdown",
      "metadata": {
        "id": "lEyPOK0ZNfFT"
      },
      "source": [
        "**About Linear Regression**\n",
        "\n",
        "Linear regression is a linear model, i.e a model that assumes a linear relationship between the input variables (x) and the single output variable (y). More specifically, it assumes that y can be calculated from a linear combination of the input variables (x).\n",
        "\n",
        "When there is a single input variable (x), the method is referred to as **Simple Linear Regression**. When there are multiple input variables, literature from statistics often refers to the method as **Multiple Linear Regression**."
      ]
    },
    {
      "cell_type": "markdown",
      "metadata": {
        "id": "gwEe_gSGQRnF"
      },
      "source": [
        "**Step 1:**\n",
        "\n",
        "Importing all required libraries and then uploading, reading, and displaying the data."
      ]
    },
    {
      "cell_type": "code",
      "metadata": {
        "id": "bnKKjh-AQwB2"
      },
      "source": [
        "#importing the required libraries\n",
        "import numpy as np\n",
        "import pandas as pd\n",
        "import matplotlib.pyplot as plt  #Graphical representation of data and model fitting\n",
        "import seaborn as sns #Graphical representation of data and model fitting"
      ],
      "execution_count": 16,
      "outputs": []
    },
    {
      "cell_type": "code",
      "metadata": {
        "colab": {
          "base_uri": "https://localhost:8080/"
        },
        "id": "ITlJgThzQ5vu",
        "outputId": "254fe19e-e917-43b2-e7c4-06cf5141e6eb"
      },
      "source": [
        "#uploading the data into a dataframe\n",
        "study_hours=pd.read_csv(\"https://raw.githubusercontent.com/AdiPersonalWorks/Random/master/student_scores%20-%20student_scores.csv\")\n",
        "print(study_hours)"
      ],
      "execution_count": 17,
      "outputs": [
        {
          "output_type": "stream",
          "text": [
            "    Hours  Scores\n",
            "0     2.5      21\n",
            "1     5.1      47\n",
            "2     3.2      27\n",
            "3     8.5      75\n",
            "4     3.5      30\n",
            "5     1.5      20\n",
            "6     9.2      88\n",
            "7     5.5      60\n",
            "8     8.3      81\n",
            "9     2.7      25\n",
            "10    7.7      85\n",
            "11    5.9      62\n",
            "12    4.5      41\n",
            "13    3.3      42\n",
            "14    1.1      17\n",
            "15    8.9      95\n",
            "16    2.5      30\n",
            "17    1.9      24\n",
            "18    6.1      67\n",
            "19    7.4      69\n",
            "20    2.7      30\n",
            "21    4.8      54\n",
            "22    3.8      35\n",
            "23    6.9      76\n",
            "24    7.8      86\n"
          ],
          "name": "stdout"
        }
      ]
    },
    {
      "cell_type": "markdown",
      "metadata": {
        "id": "6OgwX8A5SIbx"
      },
      "source": [
        "**Step 2:**\n",
        "\n",
        "Performing Eploratory Data Analysis on the DataFrame"
      ]
    },
    {
      "cell_type": "code",
      "metadata": {
        "colab": {
          "base_uri": "https://localhost:8080/"
        },
        "id": "Rr0kz-eBSSjV",
        "outputId": "4a320185-8537-422c-c60e-f37aa3ce8e95"
      },
      "source": [
        "#description of the DataFrame\n",
        "study_hours.info()   #displaying number of rows and columns,name and datatype of each column \n",
        "                     #and total memory space occupied by dataframe "
      ],
      "execution_count": 18,
      "outputs": [
        {
          "output_type": "stream",
          "text": [
            "<class 'pandas.core.frame.DataFrame'>\n",
            "RangeIndex: 25 entries, 0 to 24\n",
            "Data columns (total 2 columns):\n",
            " #   Column  Non-Null Count  Dtype  \n",
            "---  ------  --------------  -----  \n",
            " 0   Hours   25 non-null     float64\n",
            " 1   Scores  25 non-null     int64  \n",
            "dtypes: float64(1), int64(1)\n",
            "memory usage: 528.0 bytes\n"
          ],
          "name": "stdout"
        }
      ]
    },
    {
      "cell_type": "markdown",
      "metadata": {
        "id": "fO0sATc1TWo8"
      },
      "source": [
        "We can see that there are a total of two columns and 25 entries in the Dataset."
      ]
    },
    {
      "cell_type": "code",
      "metadata": {
        "colab": {
          "base_uri": "https://localhost:8080/",
          "height": 297
        },
        "id": "pXxe5SLGSob4",
        "outputId": "39eb7106-b551-419b-b502-db604eaa5c74"
      },
      "source": [
        "#statistical analysis of each column\n",
        "study_hours.describe() #mean,standard deviation,interquartile range and range of values in each column"
      ],
      "execution_count": 19,
      "outputs": [
        {
          "output_type": "execute_result",
          "data": {
            "text/html": [
              "<div>\n",
              "<style scoped>\n",
              "    .dataframe tbody tr th:only-of-type {\n",
              "        vertical-align: middle;\n",
              "    }\n",
              "\n",
              "    .dataframe tbody tr th {\n",
              "        vertical-align: top;\n",
              "    }\n",
              "\n",
              "    .dataframe thead th {\n",
              "        text-align: right;\n",
              "    }\n",
              "</style>\n",
              "<table border=\"1\" class=\"dataframe\">\n",
              "  <thead>\n",
              "    <tr style=\"text-align: right;\">\n",
              "      <th></th>\n",
              "      <th>Hours</th>\n",
              "      <th>Scores</th>\n",
              "    </tr>\n",
              "  </thead>\n",
              "  <tbody>\n",
              "    <tr>\n",
              "      <th>count</th>\n",
              "      <td>25.000000</td>\n",
              "      <td>25.000000</td>\n",
              "    </tr>\n",
              "    <tr>\n",
              "      <th>mean</th>\n",
              "      <td>5.012000</td>\n",
              "      <td>51.480000</td>\n",
              "    </tr>\n",
              "    <tr>\n",
              "      <th>std</th>\n",
              "      <td>2.525094</td>\n",
              "      <td>25.286887</td>\n",
              "    </tr>\n",
              "    <tr>\n",
              "      <th>min</th>\n",
              "      <td>1.100000</td>\n",
              "      <td>17.000000</td>\n",
              "    </tr>\n",
              "    <tr>\n",
              "      <th>25%</th>\n",
              "      <td>2.700000</td>\n",
              "      <td>30.000000</td>\n",
              "    </tr>\n",
              "    <tr>\n",
              "      <th>50%</th>\n",
              "      <td>4.800000</td>\n",
              "      <td>47.000000</td>\n",
              "    </tr>\n",
              "    <tr>\n",
              "      <th>75%</th>\n",
              "      <td>7.400000</td>\n",
              "      <td>75.000000</td>\n",
              "    </tr>\n",
              "    <tr>\n",
              "      <th>max</th>\n",
              "      <td>9.200000</td>\n",
              "      <td>95.000000</td>\n",
              "    </tr>\n",
              "  </tbody>\n",
              "</table>\n",
              "</div>"
            ],
            "text/plain": [
              "           Hours     Scores\n",
              "count  25.000000  25.000000\n",
              "mean    5.012000  51.480000\n",
              "std     2.525094  25.286887\n",
              "min     1.100000  17.000000\n",
              "25%     2.700000  30.000000\n",
              "50%     4.800000  47.000000\n",
              "75%     7.400000  75.000000\n",
              "max     9.200000  95.000000"
            ]
          },
          "metadata": {
            "tags": []
          },
          "execution_count": 19
        }
      ]
    },
    {
      "cell_type": "code",
      "metadata": {
        "colab": {
          "base_uri": "https://localhost:8080/"
        },
        "id": "RK2oadpST6aP",
        "outputId": "24560361-44b9-4a22-a49e-3b0522e4bd34"
      },
      "source": [
        "#checking for null values\n",
        "study_hours.isnull().sum() "
      ],
      "execution_count": 20,
      "outputs": [
        {
          "output_type": "execute_result",
          "data": {
            "text/plain": [
              "Hours     0\n",
              "Scores    0\n",
              "dtype: int64"
            ]
          },
          "metadata": {
            "tags": []
          },
          "execution_count": 20
        }
      ]
    },
    {
      "cell_type": "code",
      "metadata": {
        "colab": {
          "base_uri": "https://localhost:8080/"
        },
        "id": "Ck9RT1uMUd7O",
        "outputId": "de5c0066-9612-4b4e-90e7-222e5ee0d3fb"
      },
      "source": [
        "#checking for negative values\n",
        "y=(study_hours<0).all(1)\n",
        "print(y)"
      ],
      "execution_count": 21,
      "outputs": [
        {
          "output_type": "stream",
          "text": [
            "0     False\n",
            "1     False\n",
            "2     False\n",
            "3     False\n",
            "4     False\n",
            "5     False\n",
            "6     False\n",
            "7     False\n",
            "8     False\n",
            "9     False\n",
            "10    False\n",
            "11    False\n",
            "12    False\n",
            "13    False\n",
            "14    False\n",
            "15    False\n",
            "16    False\n",
            "17    False\n",
            "18    False\n",
            "19    False\n",
            "20    False\n",
            "21    False\n",
            "22    False\n",
            "23    False\n",
            "24    False\n",
            "dtype: bool\n"
          ],
          "name": "stdout"
        }
      ]
    },
    {
      "cell_type": "markdown",
      "metadata": {
        "id": "CY53T_IqU5QB"
      },
      "source": [
        "We can see that there neither any null values nor any negative values in the dataset."
      ]
    },
    {
      "cell_type": "markdown",
      "metadata": {
        "id": "oYJPpIw8uW9-"
      },
      "source": [
        "**Step 3:**\n",
        "\n",
        "Data Visualisation"
      ]
    },
    {
      "cell_type": "code",
      "metadata": {
        "id": "zDLV5fUVVBcV"
      },
      "source": [
        "#assigning values to the target variable y and input feature x\n",
        "X=study_hours.iloc[:,:-1]\n",
        "Y=study_hours.iloc[:,-1]"
      ],
      "execution_count": 22,
      "outputs": []
    },
    {
      "cell_type": "code",
      "metadata": {
        "id": "pKf5Gdvvw3u1"
      },
      "source": [
        "#splitting the dataset into training and test dataset\n",
        "from sklearn.model_selection import train_test_split\n",
        "X_train,X_test,Y_train,Y_test=train_test_split(X,Y,test_size=0.25,random_state=0)"
      ],
      "execution_count": 23,
      "outputs": []
    },
    {
      "cell_type": "code",
      "metadata": {
        "colab": {
          "base_uri": "https://localhost:8080/",
          "height": 312
        },
        "id": "p4u0XaWNyVtQ",
        "outputId": "730c9e36-c83e-46c9-9e8f-a6ac27353dc0"
      },
      "source": [
        "#studying the relation using scatter plot\n",
        "plt.scatter(X,Y)\n",
        "plt.title(\"Scores vs Hours\")\n",
        "plt.xlabel(\"Number of Study Hours\")\n",
        "plt.ylabel(\"Score\")"
      ],
      "execution_count": 24,
      "outputs": [
        {
          "output_type": "execute_result",
          "data": {
            "text/plain": [
              "Text(0, 0.5, 'Score')"
            ]
          },
          "metadata": {
            "tags": []
          },
          "execution_count": 24
        },
        {
          "output_type": "display_data",
          "data": {
            "image/png": "[encoded data removed]",
            "text/plain": [
              "<Figure size 432x288 with 1 Axes>"
            ]
          },
          "metadata": {
            "tags": [],
            "needs_background": "light"
          }
        }
      ]
    },
    {
      "cell_type": "markdown",
      "metadata": {
        "id": "B2HipcqFyvqT"
      },
      "source": [
        "**Step 4:**\n",
        "\n",
        "Fitting the linear regression model on the Dataset"
      ]
    },
    {
      "cell_type": "code",
      "metadata": {
        "colab": {
          "base_uri": "https://localhost:8080/"
        },
        "id": "ii7jXN3LysfO",
        "outputId": "323ecc93-9ea2-4be9-ffef-3fd233b5fa6c"
      },
      "source": [
        "#training the model\n",
        "from sklearn.linear_model import LinearRegression\n",
        "regressor=LinearRegression()\n",
        "regressor.fit(X_train,Y_train)"
      ],
      "execution_count": 25,
      "outputs": [
        {
          "output_type": "execute_result",
          "data": {
            "text/plain": [
              "LinearRegression(copy_X=True, fit_intercept=True, n_jobs=None, normalize=False)"
            ]
          },
          "metadata": {
            "tags": []
          },
          "execution_count": 25
        }
      ]
    },
    {
      "cell_type": "code",
      "metadata": {
        "colab": {
          "base_uri": "https://localhost:8080/"
        },
        "id": "PHe6kI61zcY4",
        "outputId": "f00d4176-1d37-4c3a-ec72-0a2619cff5a3"
      },
      "source": [
        "#making predictions\n",
        "Y_pred=regressor.predict(X_test)\n",
        "print(Y_pred)"
      ],
      "execution_count": 26,
      "outputs": [
        {
          "output_type": "stream",
          "text": [
            "[16.84472176 33.74557494 75.50062397 26.7864001  60.58810646 39.71058194\n",
            " 20.8213931 ]\n"
          ],
          "name": "stdout"
        }
      ]
    },
    {
      "cell_type": "code",
      "metadata": {
        "id": "dPOGN1txU1_2",
        "colab": {
          "base_uri": "https://localhost:8080/",
          "height": 312
        },
        "outputId": "0970a1c0-a4f5-4831-fac0-5c2fdbfd0501"
      },
      "source": [
        "#visualising the fit of the model on the dataset\n",
        "plt.scatter(X_train,Y_train,color=\"Red\")\n",
        "plt.scatter(X_test,Y_test,color=\"Blue\")\n",
        "plt.plot(X_train,regressor.predict(X_train),color=\"Green\")\n",
        "plt.title(\"Scores vs Hours\")\n",
        "plt.xlabel(\"Number of study hours\")\n",
        "plt.ylabel(\"Score\")"
      ],
      "execution_count": 27,
      "outputs": [
        {
          "output_type": "execute_result",
          "data": {
            "text/plain": [
              "Text(0, 0.5, 'Score')"
            ]
          },
          "metadata": {
            "tags": []
          },
          "execution_count": 27
        },
        {
          "output_type": "display_data",
          "data": {
            "image/png": "[encoded data removed]",
            "text/plain": [
              "<Figure size 432x288 with 1 Axes>"
            ]
          },
          "metadata": {
            "tags": [],
            "needs_background": "light"
          }
        }
      ]
    },
    {
      "cell_type": "markdown",
      "metadata": {
        "id": "UuJSVB9W4dyk"
      },
      "source": [
        "**Step 5:**\n",
        "\n",
        "Model Evaluation"
      ]
    },
    {
      "cell_type": "code",
      "metadata": {
        "colab": {
          "base_uri": "https://localhost:8080/"
        },
        "id": "_87iWVV5vwJZ",
        "outputId": "d4ad1e62-faec-4729-dd10-20a015569332"
      },
      "source": [
        "from sklearn import metrics\n",
        "r_sq=regressor.score(X,Y)\n",
        "print(\"Coefficient of Determination:\",r_sq)\n",
        "print(\"intercept:\",regressor.intercept_)\n",
        "print(\"slope:\",regressor.coef_)"
      ],
      "execution_count": 28,
      "outputs": [
        {
          "output_type": "stream",
          "text": [
            "Coefficient of Determination: 0.9525462098246908\n",
            "intercept: 1.9322042531516601\n",
            "slope: [9.94167834]\n"
          ],
          "name": "stdout"
        }
      ]
    },
    {
      "cell_type": "markdown",
      "metadata": {
        "id": "2x0GDs8G6EtZ"
      },
      "source": [
        "We can see that the value of Rsqure is 0.952, intercept is 1.932 and slope is 9.94"
      ]
    },
    {
      "cell_type": "code",
      "metadata": {
        "colab": {
          "base_uri": "https://localhost:8080/"
        },
        "id": "yhXWgWET5oEz",
        "outputId": "09776b2e-a78c-42f1-e6ae-e2b4223e0ef4"
      },
      "source": [
        "#errors\n",
        "print(\"Mean Absolute Error:\",metrics.mean_absolute_error(Y_test,Y_pred))\n",
        "print(\"Mean Squared Error:\",metrics.mean_squared_error(Y_test,Y_pred))\n"
      ],
      "execution_count": 29,
      "outputs": [
        {
          "output_type": "stream",
          "text": [
            "Mean Absolute Error: 4.130879918502482\n",
            "Mean Squared Error: 20.33292367497996\n"
          ],
          "name": "stdout"
        }
      ]
    },
    {
      "cell_type": "markdown",
      "metadata": {
        "id": "OsUMajif8qxg"
      },
      "source": [
        "**Step 6:**\n",
        "\n",
        "Submitting the required prediction"
      ]
    },
    {
      "cell_type": "code",
      "metadata": {
        "colab": {
          "base_uri": "https://localhost:8080/"
        },
        "id": "50xdI7gE7Bl5",
        "outputId": "2bd5492d-2a7b-487e-b237-e4ce1110b91a"
      },
      "source": [
        "#score of a child studying for 9.25 hours a day\n",
        "score=regressor.predict([[9.25]])\n",
        "print(score)"
      ],
      "execution_count": 30,
      "outputs": [
        {
          "output_type": "stream",
          "text": [
            "[93.89272889]\n"
          ],
          "name": "stdout"
        }
      ]
    },
    {
      "cell_type": "markdown",
      "metadata": {
        "id": "GWJAq6L697xh"
      },
      "source": [
        "As per my predictions, a student who studies for 9.25hrs/day would get a score of 93.89%"
      ]
    }
  ]
}